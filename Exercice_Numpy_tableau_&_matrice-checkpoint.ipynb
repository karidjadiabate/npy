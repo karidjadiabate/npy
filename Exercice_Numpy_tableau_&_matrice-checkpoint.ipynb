{
 "cells": [
  {
   "cell_type": "markdown",
   "id": "9b5c2aac",
   "metadata": {
    "id": "9b5c2aac"
   },
   "source": [
    "#  Cours Numpy"
   ]
  },
  {
   "cell_type": "code",
   "execution_count": 4,
   "id": "a8e10e14",
   "metadata": {
    "id": "a8e10e14"
   },
   "outputs": [],
   "source": [
    "#Chargement du package numpy\n",
    "import numpy as np"
   ]
  },
  {
   "cell_type": "markdown",
   "id": "905fcf99",
   "metadata": {
    "id": "905fcf99"
   },
   "source": [
    "# 1. Manipulation de tableau à une dimension"
   ]
  },
  {
   "cell_type": "markdown",
   "id": "7ce48f2c",
   "metadata": {
    "id": "7ce48f2c"
   },
   "source": [
    "## 1.1 Création d'un tableau"
   ]
  },
  {
   "cell_type": "code",
   "execution_count": 6,
   "id": "93f4b8ca",
   "metadata": {
    "id": "93f4b8ca",
    "outputId": "df9c0054-0fcc-4025-e47c-2653f49b51d7"
   },
   "outputs": [
    {
     "name": "stdout",
     "output_type": "stream",
     "text": [
      "[1 5 7 8]\n"
     ]
    }
   ],
   "source": [
    "#Créez un tableau qui contient les éléments suivant  : [1,5,7,8]\n",
    "tableau = np.array([1,5,7,8])\n",
    "print(tableau)\n"
   ]
  },
  {
   "cell_type": "code",
   "execution_count": 11,
   "id": "c8cfc139",
   "metadata": {
    "id": "c8cfc139"
   },
   "outputs": [
    {
     "data": {
      "text/plain": [
       "array([0., 0., 0., 0., 0., 0., 0.])"
      ]
     },
     "execution_count": 11,
     "metadata": {},
     "output_type": "execute_result"
    }
   ],
   "source": [
    "#Créez un tableau rempli de 0\n",
    "np.zeros(7)"
   ]
  },
  {
   "cell_type": "code",
   "execution_count": 5,
   "id": "4dceaf4a",
   "metadata": {
    "id": "4dceaf4a"
   },
   "outputs": [
    {
     "data": {
      "text/plain": [
       "array([1., 1., 1., 1., 1., 1., 1., 1.])"
      ]
     },
     "execution_count": 5,
     "metadata": {},
     "output_type": "execute_result"
    }
   ],
   "source": [
    "#Créez un tableau rempli de 1\n",
    "np.ones(8)\n"
   ]
  },
  {
   "cell_type": "code",
   "execution_count": 16,
   "id": "d0f16d23",
   "metadata": {
    "id": "d0f16d23",
    "outputId": "573b95f6-c5bf-4c3b-f0fd-7eae0034a548"
   },
   "outputs": [
    {
     "name": "stdout",
     "output_type": "stream",
     "text": [
      "[4.5 4.5 4.5]\n"
     ]
    }
   ],
   "source": [
    "#Créez un tableau qui contient 3 élements identiques. Exemple [8.5,8.5,8.5]\n",
    "tableau = np.full(3, 4.5)\n",
    "print(tableau)"
   ]
  },
  {
   "cell_type": "code",
   "execution_count": 23,
   "id": "0f0a14c5",
   "metadata": {
    "id": "0f0a14c5",
    "outputId": "bc6049b0-ff9f-4b92-c765-418667adafd5"
   },
   "outputs": [
    {
     "data": {
      "text/plain": [
       "array([0, 1, 2, 3, 4, 5, 6, 7, 8, 9])"
      ]
     },
     "execution_count": 23,
     "metadata": {},
     "output_type": "execute_result"
    }
   ],
   "source": [
    "#Créez un tableau rempli d'entiers successifs. le prémier élément du tableau est 0 et le dernier élément 9\n",
    "np.arange(10)\n"
   ]
  },
  {
   "cell_type": "code",
   "execution_count": 15,
   "id": "6c0e6569",
   "metadata": {
    "id": "6c0e6569",
    "outputId": "dc7f2078-aaba-4b83-d8f9-7bd303448472"
   },
   "outputs": [
    {
     "data": {
      "text/plain": [
       "array([ 1.69636148, -0.60550924,  1.13010624, -0.84701179])"
      ]
     },
     "execution_count": 15,
     "metadata": {},
     "output_type": "execute_result"
    }
   ],
   "source": [
    "#Créez un tableau remplide valeurs aléatoires normales centrées en zéro\n",
    "shape=(4)\n",
    "np.random.normal(loc=0, scale=1, size=shape)"
   ]
  },
  {
   "cell_type": "code",
   "execution_count": 19,
   "id": "cb2dced6",
   "metadata": {
    "id": "cb2dced6",
    "outputId": "cd850a47-b683-4030-f5b3-08f5678adac4"
   },
   "outputs": [
    {
     "data": {
      "text/plain": [
       "array([ 5,  4, 10,  6, 10,  7,  4,  8,  1,  4,  9,  2,  3, 10,  5,  6,  4,\n",
       "        9,  8,  2])"
      ]
     },
     "execution_count": 19,
     "metadata": {},
     "output_type": "execute_result"
    }
   ],
   "source": [
    "#Créez un tableau rempli de 20 valeurs aléatoires entières comprises toutes entre 1 et 10\n",
    "np.random.randint(low=1, high=11, size=20)"
   ]
  },
  {
   "cell_type": "markdown",
   "id": "0a5bbdb5",
   "metadata": {
    "id": "0a5bbdb5"
   },
   "source": [
    "## 1.2 Attributs d'un tableau"
   ]
  },
  {
   "cell_type": "code",
   "execution_count": 66,
   "id": "3502bddb",
   "metadata": {
    "id": "3502bddb",
    "outputId": "2733ae6b-9db7-4e56-ed1b-61bfd69eeff2"
   },
   "outputs": [
    {
     "data": {
      "text/plain": [
       "1"
      ]
     },
     "execution_count": 66,
     "metadata": {},
     "output_type": "execute_result"
    }
   ],
   "source": [
    "#Afficher le nombre de  dimension du mon tableau\n",
    "tableau = np.array([ 5,  4, 10,  6, 10,  7,  4,  8,  1,  4,  9,  2,  3, 10,  5,  6,  4,\n",
    "        9,  8,  2])\n",
    "tableau.ndim"
   ]
  },
  {
   "cell_type": "code",
   "execution_count": 25,
   "id": "7963b812",
   "metadata": {
    "id": "7963b812",
    "outputId": "36368bd8-7361-4f3f-e1d3-ed15d87922fd"
   },
   "outputs": [
    {
     "data": {
      "text/plain": [
       "dtype('int32')"
      ]
     },
     "execution_count": 25,
     "metadata": {},
     "output_type": "execute_result"
    }
   ],
   "source": [
    "#Affichez le type des éléments du tableau\n",
    "tableau.dtype"
   ]
  },
  {
   "cell_type": "code",
   "execution_count": 27,
   "id": "e8dcb053",
   "metadata": {
    "id": "e8dcb053",
    "outputId": "dcca12f9-f13f-41ce-98a0-a42b4f1e1689"
   },
   "outputs": [
    {
     "data": {
      "text/plain": [
       "20"
      ]
     },
     "execution_count": 27,
     "metadata": {},
     "output_type": "execute_result"
    }
   ],
   "source": [
    "#Affichez le nombre d'élément du tableau\n",
    "tableau.size\n"
   ]
  },
  {
   "cell_type": "code",
   "execution_count": 30,
   "id": "ba02ccfa",
   "metadata": {
    "id": "ba02ccfa",
    "outputId": "62287538-93d7-4270-85a5-499169998654"
   },
   "outputs": [
    {
     "data": {
      "text/plain": [
       "(20,)"
      ]
     },
     "execution_count": 30,
     "metadata": {},
     "output_type": "execute_result"
    }
   ],
   "source": [
    "#Afficher le nombre de lignes et de colonnes\n",
    "tableau.shape"
   ]
  },
  {
   "cell_type": "markdown",
   "id": "e5be33f8",
   "metadata": {
    "id": "e5be33f8"
   },
   "source": [
    "## 1.3 Indexing, slicing, masking et subsetting"
   ]
  },
  {
   "cell_type": "markdown",
   "id": "951d00e8",
   "metadata": {
    "id": "951d00e8"
   },
   "source": [
    "### 1.3.1 Indexing"
   ]
  },
  {
   "cell_type": "code",
   "execution_count": 59,
   "id": "d1bfa0f9",
   "metadata": {
    "colab": {
     "base_uri": "https://localhost:8080/",
     "height": 201
    },
    "id": "d1bfa0f9",
    "outputId": "af6cbe54-b285-450b-88ba-cffd372af78d"
   },
   "outputs": [
    {
     "name": "stdout",
     "output_type": "stream",
     "text": [
      "5\n"
     ]
    }
   ],
   "source": [
    "#Affichez le 1er élément du tableau\n",
    "a=tableau[0]\n",
    "print(a)"
   ]
  },
  {
   "cell_type": "code",
   "execution_count": 60,
   "id": "c7c9a61b",
   "metadata": {
    "id": "c7c9a61b",
    "outputId": "51b102ff-8262-412a-fa82-35e60cd32f22"
   },
   "outputs": [
    {
     "name": "stdout",
     "output_type": "stream",
     "text": [
      "10\n"
     ]
    }
   ],
   "source": [
    "#Affichez le 5ème élément du tableau\n",
    "a=tableau[4]\n",
    "print(a)"
   ]
  },
  {
   "cell_type": "code",
   "execution_count": 61,
   "id": "87bde8c0",
   "metadata": {
    "id": "87bde8c0",
    "outputId": "cc62af08-8934-4eed-bfac-7c5df1272326",
    "scrolled": true
   },
   "outputs": [
    {
     "name": "stdout",
     "output_type": "stream",
     "text": [
      "2\n"
     ]
    }
   ],
   "source": [
    "#Affichez le dernier élément du tableau\n",
    "a=tableau[-1]\n",
    "print(a)"
   ]
  },
  {
   "cell_type": "markdown",
   "id": "1245ef5a",
   "metadata": {
    "id": "1245ef5a"
   },
   "source": [
    "### 1.3.2 Slicing"
   ]
  },
  {
   "cell_type": "code",
   "execution_count": 64,
   "id": "d5a8eea2",
   "metadata": {
    "id": "d5a8eea2",
    "outputId": "14e44886-e391-4f0d-9754-3655d3bf255e",
    "scrolled": true
   },
   "outputs": [
    {
     "name": "stdout",
     "output_type": "stream",
     "text": [
      "[ 5  4 10  6 10  7  4]\n"
     ]
    }
   ],
   "source": [
    "#Affichez les 6 premiers éléments du tableau\n",
    "a=tableau[0:7]\n",
    "print(a)"
   ]
  },
  {
   "cell_type": "code",
   "execution_count": 75,
   "id": "b83f63c6",
   "metadata": {
    "id": "b83f63c6",
    "outputId": "900c2835-b53a-401c-adcb-9565613e4808",
    "scrolled": false
   },
   "outputs": [
    {
     "name": "stdout",
     "output_type": "stream",
     "text": [
      "[2 8 9 4 6 5]\n"
     ]
    }
   ],
   "source": [
    "#Affichez les 6 derniers éléments du tableau\n",
    "a=tableau[-1:-7:-1]\n",
    "print(a)"
   ]
  },
  {
   "cell_type": "code",
   "execution_count": 76,
   "id": "7ff7041d",
   "metadata": {
    "id": "7ff7041d",
    "outputId": "08503835-4111-4cc2-ecb5-f8ffcd5dbe99",
    "scrolled": false
   },
   "outputs": [
    {
     "name": "stdout",
     "output_type": "stream",
     "text": [
      "[10  6 10  7  4  8]\n"
     ]
    }
   ],
   "source": [
    "#Affichez les éléments tableau qui sont de la 3 ème à la  8 ème position\n",
    "a=tableau[2:8]\n",
    "print(a)"
   ]
  },
  {
   "cell_type": "markdown",
   "id": "2677d32a",
   "metadata": {
    "id": "2677d32a"
   },
   "source": [
    " 1.3.3 masking et subsetting"
   ]
  },
  {
   "cell_type": "code",
   "execution_count": 84,
   "id": "8d2a991c",
   "metadata": {
    "id": "8d2a991c",
    "outputId": "0d5616fd-0885-4889-ec40-aee665c3bb03"
   },
   "outputs": [
    {
     "name": "stdout",
     "output_type": "stream",
     "text": [
      "[ True  True False False False False  True False  True  True False  True\n",
      "  True False  True False  True False False  True]\n",
      "[ 5  0 10  6 10  7  0  8  0  0  9  0  0 10  5  6  0  9  8  0]\n",
      "[False False  True  True  True  True False  True False False  True False\n",
      " False  True False  True False  True  True False]\n",
      "[ 5  0 10 10 10 10  0 10  0  0 10  0  0 10  5 10  0 10 10  0]\n",
      "[ 5  0 10 10 10 10  0 10  0  0 10  0  0 10  5 10  0 10 10  0]\n"
     ]
    }
   ],
   "source": [
    "tableau = np.array([ 5,  4, 10,  6, 10,  7,  4,  8,  1,  4,  9,  2,  3, 10,  5,  6,  4,\n",
    "        9,  8,  2])\n",
    "#Affichez les éléments du tableau inférieurs ou égals à 5\n",
    "a=tableau<=5\n",
    "print(a)\n",
    "\n",
    "#Remplacez les éléments du tableau inférieurs à 5 par 0\n",
    "a=tableau<5\n",
    "tableau[a]=0\n",
    "print(tableau)\n",
    "\n",
    "#Affichez les éléments du tableau supérieurs à 5\n",
    "a=tableau>5\n",
    "print(a)\n",
    "\n",
    "#Remplacez les éléments du tableau supérieurs à 5 par 10\n",
    "a=tableau>5\n",
    "tableau[a]=10\n",
    "print(tableau)\n",
    "\n",
    "#Affichez le tableau obtenu\n",
    "a=tableau\n",
    "print(a)"
   ]
  },
  {
   "cell_type": "markdown",
   "id": "e33f9b27",
   "metadata": {
    "id": "e33f9b27"
   },
   "source": [
    "## 1.4 Les méthodes"
   ]
  },
  {
   "cell_type": "code",
   "execution_count": 85,
   "id": "9a218d33",
   "metadata": {
    "id": "9a218d33",
    "outputId": "310d5638-03f8-4023-c3cd-22c1371bf6b9"
   },
   "outputs": [
    {
     "name": "stdout",
     "output_type": "stream",
     "text": [
      "[ 1  2  2  3  4  4  4  4  5  5  6  6  7  8  8  9  9 10 10 10]\n"
     ]
    }
   ],
   "source": [
    "# Triez les éléments d'un tableau et affichez le résultat\n",
    "tableau = np.array([ 5,  4, 10,  6, 10,  7,  4,  8,  1,  4,  9,  2,  3, 10,  5,  6,  4,\n",
    "        9,  8,  2])\n",
    "a=np.sort(tableau)\n",
    "print(a)\n"
   ]
  },
  {
   "cell_type": "code",
   "execution_count": 86,
   "id": "b04f5c02",
   "metadata": {
    "id": "b04f5c02",
    "outputId": "0902eb15-0044-4420-dc89-56be7f5dab50"
   },
   "outputs": [
    {
     "name": "stdout",
     "output_type": "stream",
     "text": [
      "[ 5.  4. 10.  6. 10.  7.  4.  8.  1.  4.  9.  2.  3. 10.  5.  6.  4.  9.\n",
      "  8.  2.]\n"
     ]
    }
   ],
   "source": [
    "#Modifiez le type de données d'un tableau (passez de int à float)\n",
    "a=tableau.astype(float)\n",
    "print(a)"
   ]
  },
  {
   "cell_type": "code",
   "execution_count": 88,
   "id": "9b9a7196",
   "metadata": {
    "id": "9b9a7196",
    "outputId": "89269ccd-9949-425c-b7fe-4c2ab6aa6dbe"
   },
   "outputs": [
    {
     "name": "stdout",
     "output_type": "stream",
     "text": [
      "[ 5  4 10  6 10  7  4  8  1  4  9  2  3 10  5  6  4  9  8  2  3]\n"
     ]
    }
   ],
   "source": [
    "#Ajouter le chiffre 3 à la fin du tableau et affichez le résultat\n",
    "a=np.append(tableau,3)\n",
    "print(a)"
   ]
  },
  {
   "cell_type": "markdown",
   "id": "4236f705",
   "metadata": {
    "id": "4236f705"
   },
   "source": [
    "## 1.5 Statistiques avec numpy"
   ]
  },
  {
   "cell_type": "code",
   "execution_count": 100,
   "id": "7824286d",
   "metadata": {
    "id": "7824286d",
    "outputId": "84d211c2-da51-4d84-8c93-96872a9ab3f0"
   },
   "outputs": [
    {
     "data": {
      "text/plain": [
       "117"
      ]
     },
     "execution_count": 100,
     "metadata": {},
     "output_type": "execute_result"
    }
   ],
   "source": [
    "#Afficher la somme des éléments du tableau\n",
    "tableau = np.array([ 5,  4, 10,  6, 10,  7,  4,  8,  1,  4,  9,  2,  3, 10,  5,  6,  4,\n",
    "        9,  8,  2])\n",
    "np.sum(tableau)"
   ]
  },
  {
   "cell_type": "code",
   "execution_count": 109,
   "id": "09f37d51",
   "metadata": {
    "id": "09f37d51",
    "outputId": "1f03499c-f01c-42c6-b230-ae2790dd3046"
   },
   "outputs": [
    {
     "name": "stdout",
     "output_type": "stream",
     "text": [
      "-1373634560\n"
     ]
    }
   ],
   "source": [
    "#Affichez le produit des éléments du tableau\n",
    "tableau = np.array([ 5,  4, 10,  6, 10,  7,  4,  8,  1,  4,  9,  2,  3, 10,  5,  6,  4,\n",
    "        9,  8,  2])\n",
    "a= np.prod(tableau)\n",
    "print(a)"
   ]
  },
  {
   "cell_type": "code",
   "execution_count": 111,
   "id": "602ff5fe",
   "metadata": {
    "id": "602ff5fe",
    "outputId": "0832fa45-a351-4252-fa7b-d09435fff117"
   },
   "outputs": [
    {
     "name": "stdout",
     "output_type": "stream",
     "text": [
      "Min: 1\n",
      "Max: 10\n"
     ]
    }
   ],
   "source": [
    "#Affichez le minimum et le maximum du tableau\n",
    "a= np.min(tableau)\n",
    "b= np.max(tableau)\n",
    "print(\"Min:\",a)\n",
    "print(\"Max:\",b)"
   ]
  },
  {
   "cell_type": "code",
   "execution_count": 112,
   "id": "7b3fd49c",
   "metadata": {
    "id": "7b3fd49c",
    "outputId": "ce6ab38a-2874-46c1-d4a5-94dcb53778e9"
   },
   "outputs": [
    {
     "name": "stdout",
     "output_type": "stream",
     "text": [
      "Moy: 5.85\n"
     ]
    }
   ],
   "source": [
    "#Affichez la moyenne des éléments du tableau\n",
    "a=np.mean(tableau)\n",
    "print(\"Moy:\",a)"
   ]
  },
  {
   "cell_type": "code",
   "execution_count": 113,
   "id": "5935ffe8",
   "metadata": {
    "id": "5935ffe8",
    "outputId": "c0a1f26c-bf58-4547-f5e8-b0d42011ee26"
   },
   "outputs": [
    {
     "name": "stdout",
     "output_type": "stream",
     "text": [
      "var: 7.9275\n"
     ]
    }
   ],
   "source": [
    "#Affichez la variance des éléments du tableau\n",
    "a=np.var(tableau)\n",
    "print(\"var:\",a)"
   ]
  },
  {
   "cell_type": "code",
   "execution_count": 114,
   "id": "cb9ce0fb",
   "metadata": {
    "id": "cb9ce0fb",
    "outputId": "f6ab9456-0797-4978-8ccd-eb51f041e99d"
   },
   "outputs": [
    {
     "name": "stdout",
     "output_type": "stream",
     "text": [
      "2.8155816450602176\n"
     ]
    }
   ],
   "source": [
    "#Affichez l'ecart type des éléments du tableau\n",
    "a=np.std(tableau)\n",
    "print(a)"
   ]
  },
  {
   "cell_type": "code",
   "execution_count": 115,
   "id": "f9a569f6",
   "metadata": {
    "id": "f9a569f6",
    "outputId": "70291768-426a-4c03-91a0-7e385892130b"
   },
   "outputs": [
    {
     "name": "stdout",
     "output_type": "stream",
     "text": [
      "[ 1  2  3  4  5  6  7  8  9 10]\n"
     ]
    }
   ],
   "source": [
    "#Affichez les éléments uniques du tableau\n",
    "a=np.unique(tableau)"
   ]
  },
  {
   "cell_type": "markdown",
   "id": "fa4f9a6f",
   "metadata": {
    "id": "fa4f9a6f"
   },
   "source": [
    "# 2. Tableau à deux dimensions"
   ]
  },
  {
   "cell_type": "markdown",
   "id": "c22198c3",
   "metadata": {
    "id": "c22198c3"
   },
   "source": [
    "## 2.0 Exercice"
   ]
  },
  {
   "cell_type": "markdown",
   "id": "8d21c5a3",
   "metadata": {
    "id": "8d21c5a3"
   },
   "source": [
    "## 2.1 Création d'une matrice"
   ]
  },
  {
   "cell_type": "code",
   "execution_count": 119,
   "id": "585809dd",
   "metadata": {
    "id": "585809dd",
    "outputId": "51b96b3e-e207-452f-9150-be61db402cb9"
   },
   "outputs": [
    {
     "data": {
      "text/plain": [
       "array([[1, 2, 3],\n",
       "       [4, 5, 6],\n",
       "       [7, 8, 9]])"
      ]
     },
     "execution_count": 119,
     "metadata": {},
     "output_type": "execute_result"
    }
   ],
   "source": [
    "#Créez une matrice de 3 lignes et 3 colonnes qui contient les élements suivant [1,2,3],[4,5,6],[7,8,9]\n",
    "np.array([[1, 2, 3], [4, 5, 6], [7, 8, 9]])\n"
   ]
  },
  {
   "cell_type": "code",
   "execution_count": 121,
   "id": "bdf90629",
   "metadata": {
    "id": "bdf90629",
    "outputId": "8601e6cd-c095-4e16-b701-2d9b0744bdf8"
   },
   "outputs": [
    {
     "data": {
      "text/plain": [
       "array([[0., 0., 0.],\n",
       "       [0., 0., 0.],\n",
       "       [0., 0., 0.]])"
      ]
     },
     "execution_count": 121,
     "metadata": {},
     "output_type": "execute_result"
    }
   ],
   "source": [
    "#Créez une matrice de 3 lignes et 3 colonnes qui rempli du chiffre zéro\n",
    "np.zeros((3,3))"
   ]
  },
  {
   "cell_type": "code",
   "execution_count": 122,
   "id": "1dcce7c7",
   "metadata": {
    "id": "1dcce7c7",
    "outputId": "8fc7f169-1bb6-4cb7-b3d1-f4a9f0cb9f5d"
   },
   "outputs": [
    {
     "data": {
      "text/plain": [
       "array([[1., 1., 1., 1.],\n",
       "       [1., 1., 1., 1.],\n",
       "       [1., 1., 1., 1.],\n",
       "       [1., 1., 1., 1.]])"
      ]
     },
     "execution_count": 122,
     "metadata": {},
     "output_type": "execute_result"
    }
   ],
   "source": [
    "#Créez une matrice de 4 lignes et 4 colonnes qui rempli du chiffre un\n",
    "np.ones((4,4))"
   ]
  },
  {
   "cell_type": "code",
   "execution_count": 124,
   "id": "98a9b5b0",
   "metadata": {
    "id": "98a9b5b0",
    "outputId": "c1828981-d8b6-4516-c321-6c4dcf834c57"
   },
   "outputs": [
    {
     "data": {
      "text/plain": [
       "array([[8.6, 8.6, 8.6, 8.6],\n",
       "       [8.6, 8.6, 8.6, 8.6],\n",
       "       [8.6, 8.6, 8.6, 8.6]])"
      ]
     },
     "execution_count": 124,
     "metadata": {},
     "output_type": "execute_result"
    }
   ],
   "source": [
    "#Créez une matrice de 3 lignes et 4 colonnes qui rempli du nombre 8.6\n",
    "np.full((3,4), 8.6)"
   ]
  },
  {
   "cell_type": "code",
   "execution_count": 130,
   "id": "3bbc9e36",
   "metadata": {
    "id": "3bbc9e36",
    "outputId": "2ecf112b-ba3f-4c6b-9566-9d945ce630f5"
   },
   "outputs": [
    {
     "name": "stdout",
     "output_type": "stream",
     "text": [
      "[[ 0  1  2]\n",
      " [ 3  4  5]\n",
      " [ 6  7  8]\n",
      " [ 9 10 11]]\n"
     ]
    }
   ],
   "source": [
    "#Créez une matrice de 4 lignes et 3 colonnes qui contient les entier allant de 0 à 11 d'entiers successifs\n",
    "a=np.arange(12)\n",
    "b=a.reshape(4,3)\n",
    "print(b)"
   ]
  },
  {
   "cell_type": "code",
   "execution_count": 131,
   "id": "abbffa6b",
   "metadata": {
    "id": "abbffa6b",
    "outputId": "b1ae922c-3f05-4670-a9ad-7a0379eebfc5"
   },
   "outputs": [
    {
     "data": {
      "text/plain": [
       "array([[8, 8, 8],\n",
       "       [8, 8, 8],\n",
       "       [8, 8, 8]])"
      ]
     },
     "execution_count": 131,
     "metadata": {},
     "output_type": "execute_result"
    }
   ],
   "source": [
    "#Créez une matrice identité de 3 lignes et 3 colonnes\n",
    "np.full((3,3), 8)"
   ]
  },
  {
   "cell_type": "code",
   "execution_count": 174,
   "id": "045d7ec0",
   "metadata": {
    "id": "045d7ec0",
    "outputId": "eef6859a-06a5-48d7-bf0a-966d8e4dfde8"
   },
   "outputs": [
    {
     "name": "stdout",
     "output_type": "stream",
     "text": [
      "[[5 3 0]\n",
      " [6 6 0]\n",
      " [9 5 7]]\n"
     ]
    }
   ],
   "source": [
    "#1)Créez une matrice identité de 3 lignes et 3 colonnes composé de valeurs aléatoires entières\n",
    "#NB : fixez l'aléatoire pour pouvoir répéter l'expérience\n",
    "np.random.seed(20)\n",
    "np.random.randint(0,10,size=(3,3))\n",
    "\n",
    "#2) Stockez la matrice obtenu dans un objet appelé M\n",
    "M=np.random.randint(0,10,size=(3,3))\n",
    "print(M)\n",
    "\n"
   ]
  },
  {
   "cell_type": "markdown",
   "id": "fa9be712",
   "metadata": {
    "id": "fa9be712"
   },
   "source": [
    "## 2.2 Attributs d'un tableau"
   ]
  },
  {
   "cell_type": "code",
   "execution_count": 175,
   "id": "44cbecbd",
   "metadata": {
    "id": "44cbecbd",
    "outputId": "f6474c35-7294-4247-812e-b74946f4b885"
   },
   "outputs": [
    {
     "name": "stdout",
     "output_type": "stream",
     "text": [
      "NL: 3\n",
      "NC: 3\n"
     ]
    }
   ],
   "source": [
    "#Affichez le nombre de lignes et de colonnes de la matrice M\n",
    "a=M.shape[0]\n",
    "b=M.shape[1]\n",
    "print(\"NL:\",a)\n",
    "print(\"NC:\",b)"
   ]
  },
  {
   "cell_type": "code",
   "execution_count": 176,
   "id": "283229ac",
   "metadata": {
    "id": "283229ac",
    "outputId": "3160552f-b80f-410e-f364-24ab1ed775d3"
   },
   "outputs": [
    {
     "data": {
      "text/plain": [
       "2"
      ]
     },
     "execution_count": 176,
     "metadata": {},
     "output_type": "execute_result"
    }
   ],
   "source": [
    "#Affichez la dimension de la matrice M\n",
    "M.ndim"
   ]
  },
  {
   "cell_type": "code",
   "execution_count": 177,
   "id": "5534e6e7",
   "metadata": {
    "id": "5534e6e7",
    "outputId": "1a295cac-1141-40e9-b3a9-64c318034bf7"
   },
   "outputs": [
    {
     "data": {
      "text/plain": [
       "9"
      ]
     },
     "execution_count": 177,
     "metadata": {},
     "output_type": "execute_result"
    }
   ],
   "source": [
    "#Affichez le nombre d'éléments de la matrice M\n",
    "M.size"
   ]
  },
  {
   "cell_type": "code",
   "execution_count": 178,
   "id": "627030bc",
   "metadata": {
    "id": "627030bc",
    "outputId": "d71cdf36-84b4-4466-a97f-241f51fa4094"
   },
   "outputs": [
    {
     "data": {
      "text/plain": [
       "dtype('int32')"
      ]
     },
     "execution_count": 178,
     "metadata": {},
     "output_type": "execute_result"
    }
   ],
   "source": [
    "#Affichez le type des éléments de la matrice M\n",
    "M.dtype"
   ]
  },
  {
   "cell_type": "markdown",
   "id": "a70eb7b1",
   "metadata": {
    "id": "a70eb7b1"
   },
   "source": [
    "## 2.3 Indexing, slicing, masking et subsetting"
   ]
  },
  {
   "cell_type": "markdown",
   "id": "95a508d3",
   "metadata": {
    "id": "95a508d3"
   },
   "source": [
    "### 2.3.1 Indexing"
   ]
  },
  {
   "cell_type": "code",
   "execution_count": 179,
   "id": "894621dd",
   "metadata": {
    "id": "894621dd",
    "outputId": "a1324f41-cfb7-4eed-820d-5641039ac8fb"
   },
   "outputs": [
    {
     "name": "stdout",
     "output_type": "stream",
     "text": [
      "5\n"
     ]
    }
   ],
   "source": [
    "#Affichez le premier élément de la matrice M\n",
    "a=M[0,0]\n",
    "print(a)"
   ]
  },
  {
   "cell_type": "code",
   "execution_count": 180,
   "id": "bf82b6ca",
   "metadata": {
    "id": "bf82b6ca",
    "outputId": "df197f20-6152-476e-c89a-dcaa12289e9b"
   },
   "outputs": [
    {
     "name": "stdout",
     "output_type": "stream",
     "text": [
      "5\n"
     ]
    }
   ],
   "source": [
    "#Affichez l'élément se trouavnt à la 3ème ligne et à la 2ème colonne de la matrice M\n",
    "a=M[2,1]\n",
    "print(a)"
   ]
  },
  {
   "cell_type": "code",
   "execution_count": 181,
   "id": "8cc69a32",
   "metadata": {
    "id": "8cc69a32",
    "outputId": "a0a4c7e1-4393-4389-e13b-be01b60bb3ec"
   },
   "outputs": [
    {
     "name": "stdout",
     "output_type": "stream",
     "text": [
      "6\n"
     ]
    }
   ],
   "source": [
    "#Affichez l'élément se trouavnt à la 2ème ligne et à la 1ème colonne de la matrice M\n",
    "a=M[1,0]\n",
    "print(a)"
   ]
  },
  {
   "cell_type": "markdown",
   "id": "4c42c7ee",
   "metadata": {
    "id": "4c42c7ee"
   },
   "source": [
    "### 2.3.2 Slicing"
   ]
  },
  {
   "cell_type": "code",
   "execution_count": 182,
   "id": "d28ceb01",
   "metadata": {
    "id": "d28ceb01",
    "outputId": "8e1a0540-f013-414b-ed5c-26244c980d35"
   },
   "outputs": [
    {
     "name": "stdout",
     "output_type": "stream",
     "text": [
      "[[5 3 0]\n",
      " [6 6 0]]\n"
     ]
    }
   ],
   "source": [
    "#Affichez les éléments se trouvant sur les 2 premières lignes et les 3 premières colonnes de la matrice M\n",
    "a=M[:2, :3]\n",
    "print(a)"
   ]
  },
  {
   "cell_type": "code",
   "execution_count": 183,
   "id": "f0cb6247",
   "metadata": {
    "id": "f0cb6247",
    "outputId": "cffc1dc6-38fa-47e5-a477-d9f80fab3de1"
   },
   "outputs": [
    {
     "name": "stdout",
     "output_type": "stream",
     "text": [
      "[[5 3 0]\n",
      " [6 6 0]]\n"
     ]
    }
   ],
   "source": [
    "#Affichez les éléments se trouvant sur les 2 premières linges et les 3 premières colonnes de la matrice M\n",
    "a=M[:2, :3]\n",
    "print(a)"
   ]
  },
  {
   "cell_type": "code",
   "execution_count": 184,
   "id": "5c032f9e",
   "metadata": {
    "id": "5c032f9e",
    "outputId": "96973337-296b-4c3c-fd35-885a44b8401b"
   },
   "outputs": [
    {
     "name": "stdout",
     "output_type": "stream",
     "text": [
      "[0 0 7]\n"
     ]
    }
   ],
   "source": [
    "#Affichez les éléments se trouvant la troisième colonne de la matrice M\n",
    "a=M[:, 2]\n",
    "print(a)"
   ]
  },
  {
   "cell_type": "code",
   "execution_count": 185,
   "id": "b9f5cef8",
   "metadata": {
    "id": "b9f5cef8",
    "outputId": "f3306a06-df0f-499a-8753-cb75ffcd5fcc",
    "scrolled": true
   },
   "outputs": [
    {
     "name": "stdout",
     "output_type": "stream",
     "text": [
      "[9 5 7]\n"
     ]
    }
   ],
   "source": [
    "#Affichez les éléments se trouavnt à la dernière ligne de la matrice M\n",
    "a=M[-1, :]\n",
    "print(a)"
   ]
  },
  {
   "cell_type": "code",
   "execution_count": 186,
   "id": "5cbd0ebe",
   "metadata": {
    "id": "5cbd0ebe",
    "outputId": "75380b87-0cf4-4827-915a-6600a4dc1fbf"
   },
   "outputs": [
    {
     "name": "stdout",
     "output_type": "stream",
     "text": [
      "la 1ère ligne: [5 3 0]\n",
      "la dernière ligne: [9 5 7]\n"
     ]
    }
   ],
   "source": [
    "#Afficher l'élément se trouvant à la 1ère et à la dernière ligne de la matrice M\n",
    "a=M[0]\n",
    "b=M[-1]\n",
    "\n",
    "print(\"la 1ère ligne:\",a)\n",
    "print(\"la dernière ligne:\",b)"
   ]
  },
  {
   "cell_type": "markdown",
   "id": "77317354",
   "metadata": {
    "id": "77317354"
   },
   "source": [
    "### 2.3.3 Masking et subsetting"
   ]
  },
  {
   "cell_type": "code",
   "execution_count": 187,
   "id": "43436864",
   "metadata": {
    "id": "43436864",
    "outputId": "270b15aa-5264-4db1-8d02-4fcce03858af"
   },
   "outputs": [
    {
     "name": "stdout",
     "output_type": "stream",
     "text": [
      "[[ True  True  True]\n",
      " [False False  True]\n",
      " [False  True False]]\n"
     ]
    }
   ],
   "source": [
    "#Vérifiez si un élément de la matrice M est inférieur ou égale à 5\n",
    "a=M<=5\n",
    "print(a)\n"
   ]
  },
  {
   "cell_type": "code",
   "execution_count": 188,
   "id": "XQy_UDdq6YuT",
   "metadata": {
    "id": "XQy_UDdq6YuT"
   },
   "outputs": [
    {
     "name": "stdout",
     "output_type": "stream",
     "text": [
      "[[False False False]\n",
      " [ True  True False]\n",
      " [ True False  True]]\n"
     ]
    }
   ],
   "source": [
    "#Vérifiez si un élément de la matrice M est supérieur à 5\n",
    "a=M>5\n",
    "print(a)"
   ]
  },
  {
   "cell_type": "code",
   "execution_count": 189,
   "id": "2a2c1b37",
   "metadata": {
    "id": "2a2c1b37",
    "outputId": "1645612c-5c8c-4a25-d0ab-f9cca50b6bcd"
   },
   "outputs": [
    {
     "name": "stdout",
     "output_type": "stream",
     "text": [
      "[[0 0 0]\n",
      " [6 6 0]\n",
      " [9 0 7]]\n"
     ]
    }
   ],
   "source": [
    "#Remplacez toutes les valeurs de la matrice M inférieures ou égales à 5 par 0\n",
    "a=M<=5\n",
    "M[a]=0\n",
    "print(M)"
   ]
  },
  {
   "cell_type": "code",
   "execution_count": 190,
   "id": "f082fa27",
   "metadata": {
    "id": "f082fa27",
    "outputId": "a8de2164-c349-42bf-d2ff-0c3010fe87f6"
   },
   "outputs": [
    {
     "name": "stdout",
     "output_type": "stream",
     "text": [
      "[[ 0  0  0]\n",
      " [10 10  0]\n",
      " [10  0 10]]\n"
     ]
    }
   ],
   "source": [
    "#Remplacez toutes les valeurs de la matrice M supérieures à 5 par 10\n",
    "a=M>5\n",
    "M[a]=10\n",
    "print(M)"
   ]
  },
  {
   "cell_type": "markdown",
   "id": "c609c423",
   "metadata": {
    "id": "c609c423"
   },
   "source": [
    "## 2.4 Méthodes"
   ]
  },
  {
   "cell_type": "code",
   "execution_count": 191,
   "id": "990ecb40",
   "metadata": {
    "id": "990ecb40",
    "outputId": "f89a156a-d8ce-4bf7-a757-14dfe6207ebd"
   },
   "outputs": [
    {
     "name": "stdout",
     "output_type": "stream",
     "text": [
      "[[ 0.  0.  0.]\n",
      " [10. 10.  0.]\n",
      " [10.  0. 10.]]\n"
     ]
    }
   ],
   "source": [
    "#Changez le type de donnée des éléments de la matrice M (passez de in32 à float32)\n",
    "a=M.astype(float)\n",
    "print(a)"
   ]
  },
  {
   "cell_type": "code",
   "execution_count": 165,
   "id": "26854bbe",
   "metadata": {
    "colab": {
     "base_uri": "https://localhost:8080/"
    },
    "id": "26854bbe",
    "outputId": "edb62723-b377-4eba-fc0d-5805ee7b3d13"
   },
   "outputs": [
    {
     "data": {
      "text/plain": [
       "array([[1, 2, 3],\n",
       "       [2, 3, 4],\n",
       "       [3, 4, 5]])"
      ]
     },
     "execution_count": 165,
     "metadata": {},
     "output_type": "execute_result"
    }
   ],
   "source": [
    "#Soit la matrice à 3 lignes et 3 colonne dénommée N\n",
    "N = np.array([[1,2,3],[2,3,4],[3,4,5]])\n",
    "N"
   ]
  },
  {
   "cell_type": "code",
   "execution_count": 192,
   "id": "XiweCTSI7Wak",
   "metadata": {
    "id": "XiweCTSI7Wak"
   },
   "outputs": [
    {
     "name": "stdout",
     "output_type": "stream",
     "text": [
      "[[ 0  0  0]\n",
      " [10 10  0]\n",
      " [10  0 10]]\n"
     ]
    }
   ],
   "source": [
    "#Affichez la matrice M\n",
    "print(M)"
   ]
  },
  {
   "cell_type": "code",
   "execution_count": 193,
   "id": "c8039d95",
   "metadata": {
    "id": "c8039d95",
    "outputId": "ab38e222-71b4-46f1-8173-4ffd45980654"
   },
   "outputs": [
    {
     "data": {
      "text/plain": [
       "array([[ 1,  2,  3,  0,  0,  0],\n",
       "       [ 2,  3,  4, 10, 10,  0],\n",
       "       [ 3,  4,  5, 10,  0, 10]])"
      ]
     },
     "execution_count": 193,
     "metadata": {},
     "output_type": "execute_result"
    }
   ],
   "source": [
    "#Effectuez une concaténation horizontale des matrices M et et N pour obtenir une matrice O\n",
    "np.concatenate((N,M), axis=1)"
   ]
  },
  {
   "cell_type": "code",
   "execution_count": 195,
   "id": "c92b4386",
   "metadata": {
    "id": "c92b4386",
    "outputId": "1d3e06e4-256b-4473-b73f-aa686ef50793"
   },
   "outputs": [
    {
     "data": {
      "text/plain": [
       "array([[ 1,  2,  3],\n",
       "       [ 2,  3,  4],\n",
       "       [ 3,  4,  5],\n",
       "       [ 0,  0,  0],\n",
       "       [10, 10,  0],\n",
       "       [10,  0, 10]])"
      ]
     },
     "execution_count": 195,
     "metadata": {},
     "output_type": "execute_result"
    }
   ],
   "source": [
    "#Effectuez une concaténation vérticale des matrices M et et N pour obtenir une matrice P\n",
    "np.concatenate((N,M), axis=0)"
   ]
  },
  {
   "cell_type": "code",
   "execution_count": 194,
   "id": "a88a9263",
   "metadata": {
    "id": "a88a9263",
    "outputId": "b9ef2213-cbdf-4a7d-e802-37730af24171"
   },
   "outputs": [
    {
     "name": "stdout",
     "output_type": "stream",
     "text": [
      "[ 1  2  3  0  0  0  2  3  4 10 10  0  3  4  5 10  0 10]\n"
     ]
    }
   ],
   "source": [
    "#Applatissez le tableau O obtenu\n",
    "O=np.array([[ 1,  2,  3,  0,  0,  0],\n",
    "       [ 2,  3,  4, 10, 10,  0],\n",
    "       [ 3,  4,  5, 10,  0, 10]])\n",
    "a=O.ravel()\n",
    "print(a)"
   ]
  },
  {
   "cell_type": "code",
   "execution_count": null,
   "id": "4bd7e518",
   "metadata": {},
   "outputs": [],
   "source": []
  }
 ],
 "metadata": {
  "colab": {
   "provenance": []
  },
  "kernelspec": {
   "display_name": "Python 3 (ipykernel)",
   "language": "python",
   "name": "python3"
  },
  "language_info": {
   "codemirror_mode": {
    "name": "ipython",
    "version": 3
   },
   "file_extension": ".py",
   "mimetype": "text/x-python",
   "name": "python",
   "nbconvert_exporter": "python",
   "pygments_lexer": "ipython3",
   "version": "3.10.9"
  }
 },
 "nbformat": 4,
 "nbformat_minor": 5
}
